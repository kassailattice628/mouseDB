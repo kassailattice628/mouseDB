{
 "cells": [
  {
   "cell_type": "code",
   "execution_count": 1,
   "metadata": {},
   "outputs": [],
   "source": [
    "import tkinter as tk\n",
    "import tkinter.ttk as ttk"
   ]
  },
  {
   "cell_type": "code",
   "execution_count": 2,
   "metadata": {},
   "outputs": [],
   "source": [
    "class SearchWidget:\n",
    "    \"\"\" Search Menu 用のボタン\"\"\"\n",
    "    def __init__(self, w_type, t, row, col, val, master=None, width=10):\n",
    "        self.master = master\n",
    "        self.w_type = w_type\n",
    "        self.text = t\n",
    "        self.grid_r = row\n",
    "        self.grid_c = col\n",
    "        self.values = val\n",
    "        self.width = width\n",
    "\n",
    "        self.make_widgets()\n",
    "\n",
    "    def make_widgets(self):\n",
    "        self.make_label()\n",
    "        if self.w_type == \"Entry\":\n",
    "            self.make_entry()\n",
    "        elif self.w_type == \"Combobox\":\n",
    "            self.make_combo()\n",
    "\n",
    "    def make_label(self):\n",
    "        L = tk.Label()\n",
    "        L[\"text\"] = self.text\n",
    "        L.grid(row=self.grid_r, column=self.grid_c)\n",
    "\n",
    "    def make_entry(self):\n",
    "        E = tk.Entry()\n",
    "        E.grid(row=self.grid_r, column=self.grid_c+1)\n"
   ]
  },
  {
   "cell_type": "code",
   "execution_count": 3,
   "metadata": {},
   "outputs": [
    {
     "data": {
      "text/plain": [
       "type"
      ]
     },
     "execution_count": 3,
     "metadata": {},
     "output_type": "execute_result"
    }
   ],
   "source": [
    "type(SearchWidget)"
   ]
  },
  {
   "cell_type": "code",
   "execution_count": 4,
   "metadata": {},
   "outputs": [],
   "source": [
    "root = tk.Tk()\n",
    "root.title(\"MOUSE DB_KASAI\")\n",
    "root.geometry(\"800x500\")\n",
    "f1 =  tk.LabelFrame(root, bd=2, relief=\"ridge\", text=\"Frame1\")\n",
    "f1.pack(fill=\"x\")\n",
    "b1 = tk.Button(f1, text=\"Button\")\n",
    "b1.pack(side=\"left\")\n",
    "f2 = tk.LabelFrame(root, bd=2, relief=\"ridge\", text=\"Search Menu\")\n",
    "f2.pack(fill=\"x\", after=f1)\n",
    "b2 = tk.Button(f2, text=\"Button\")\n",
    "b2.pack(side=\"left\")\n",
    "#a =  SearchWidget(\"Entry\", \"LABEL test1\", 0, 0, {}, f, 20)\n",
    "#b =  SearchWidget(\"Entry\", \"LABEL test2\", 0, 2, {}, f, 20)"
   ]
  },
  {
   "cell_type": "code",
   "execution_count": 5,
   "metadata": {},
   "outputs": [],
   "source": [
    "root.mainloop()\n"
   ]
  },
  {
   "cell_type": "code",
   "execution_count": null,
   "metadata": {},
   "outputs": [],
   "source": []
  }
 ],
 "metadata": {
  "kernelspec": {
   "display_name": "Python 3",
   "language": "python",
   "name": "python3"
  },
  "language_info": {
   "codemirror_mode": {
    "name": "ipython",
    "version": 3
   },
   "file_extension": ".py",
   "mimetype": "text/x-python",
   "name": "python",
   "nbconvert_exporter": "python",
   "pygments_lexer": "ipython3",
   "version": "3.4.5"
  }
 },
 "nbformat": 4,
 "nbformat_minor": 2
}
